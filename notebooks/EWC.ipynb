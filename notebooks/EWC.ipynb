{
  "nbformat": 4,
  "nbformat_minor": 0,
  "metadata": {
    "colab": {
      "name": "EWC.ipynb",
      "provenance": [],
      "collapsed_sections": []
    },
    "kernelspec": {
      "name": "python3",
      "display_name": "Python 3"
    },
    "accelerator": "GPU",
    "widgets": {
      "application/vnd.jupyter.widget-state+json": {
        "a1a68ae83dc84600a420cceec08f8316": {
          "model_module": "@jupyter-widgets/controls",
          "model_name": "HBoxModel",
          "state": {
            "_view_name": "HBoxView",
            "_dom_classes": [],
            "_model_name": "HBoxModel",
            "_view_module": "@jupyter-widgets/controls",
            "_model_module_version": "1.5.0",
            "_view_count": null,
            "_view_module_version": "1.5.0",
            "box_style": "",
            "layout": "IPY_MODEL_d6baeac1b27743659e269b585e304522",
            "_model_module": "@jupyter-widgets/controls",
            "children": [
              "IPY_MODEL_3b33a21378914482af0eb86c3c8e36bc",
              "IPY_MODEL_4d68047621494322b3f3c9b5f720c497"
            ]
          }
        },
        "d6baeac1b27743659e269b585e304522": {
          "model_module": "@jupyter-widgets/base",
          "model_name": "LayoutModel",
          "state": {
            "_view_name": "LayoutView",
            "grid_template_rows": null,
            "right": null,
            "justify_content": null,
            "_view_module": "@jupyter-widgets/base",
            "overflow": null,
            "_model_module_version": "1.2.0",
            "_view_count": null,
            "flex_flow": null,
            "width": null,
            "min_width": null,
            "border": null,
            "align_items": null,
            "bottom": null,
            "_model_module": "@jupyter-widgets/base",
            "top": null,
            "grid_column": null,
            "overflow_y": null,
            "overflow_x": null,
            "grid_auto_flow": null,
            "grid_area": null,
            "grid_template_columns": null,
            "flex": null,
            "_model_name": "LayoutModel",
            "justify_items": null,
            "grid_row": null,
            "max_height": null,
            "align_content": null,
            "visibility": null,
            "align_self": null,
            "height": null,
            "min_height": null,
            "padding": null,
            "grid_auto_rows": null,
            "grid_gap": null,
            "max_width": null,
            "order": null,
            "_view_module_version": "1.2.0",
            "grid_template_areas": null,
            "object_position": null,
            "object_fit": null,
            "grid_auto_columns": null,
            "margin": null,
            "display": null,
            "left": null
          }
        },
        "3b33a21378914482af0eb86c3c8e36bc": {
          "model_module": "@jupyter-widgets/controls",
          "model_name": "FloatProgressModel",
          "state": {
            "_view_name": "ProgressView",
            "style": "IPY_MODEL_bf46d2c14807421a9185f6591fc98e8a",
            "_dom_classes": [],
            "description": "Dl Completed...: 100%",
            "_model_name": "FloatProgressModel",
            "bar_style": "success",
            "max": 4,
            "_view_module": "@jupyter-widgets/controls",
            "_model_module_version": "1.5.0",
            "value": 4,
            "_view_count": null,
            "_view_module_version": "1.5.0",
            "orientation": "horizontal",
            "min": 0,
            "description_tooltip": null,
            "_model_module": "@jupyter-widgets/controls",
            "layout": "IPY_MODEL_55b5ed2eb70140bdb25c3252474e41ea"
          }
        },
        "4d68047621494322b3f3c9b5f720c497": {
          "model_module": "@jupyter-widgets/controls",
          "model_name": "HTMLModel",
          "state": {
            "_view_name": "HTMLView",
            "style": "IPY_MODEL_a3a1fe12fb6246d28c50383a49956194",
            "_dom_classes": [],
            "description": "",
            "_model_name": "HTMLModel",
            "placeholder": "​",
            "_view_module": "@jupyter-widgets/controls",
            "_model_module_version": "1.5.0",
            "value": " 4/4 [00:06&lt;00:00,  1.64s/ file]",
            "_view_count": null,
            "_view_module_version": "1.5.0",
            "description_tooltip": null,
            "_model_module": "@jupyter-widgets/controls",
            "layout": "IPY_MODEL_408617dfa95448ca8db3843483f51f94"
          }
        },
        "bf46d2c14807421a9185f6591fc98e8a": {
          "model_module": "@jupyter-widgets/controls",
          "model_name": "ProgressStyleModel",
          "state": {
            "_view_name": "StyleView",
            "_model_name": "ProgressStyleModel",
            "description_width": "initial",
            "_view_module": "@jupyter-widgets/base",
            "_model_module_version": "1.5.0",
            "_view_count": null,
            "_view_module_version": "1.2.0",
            "bar_color": null,
            "_model_module": "@jupyter-widgets/controls"
          }
        },
        "55b5ed2eb70140bdb25c3252474e41ea": {
          "model_module": "@jupyter-widgets/base",
          "model_name": "LayoutModel",
          "state": {
            "_view_name": "LayoutView",
            "grid_template_rows": null,
            "right": null,
            "justify_content": null,
            "_view_module": "@jupyter-widgets/base",
            "overflow": null,
            "_model_module_version": "1.2.0",
            "_view_count": null,
            "flex_flow": null,
            "width": null,
            "min_width": null,
            "border": null,
            "align_items": null,
            "bottom": null,
            "_model_module": "@jupyter-widgets/base",
            "top": null,
            "grid_column": null,
            "overflow_y": null,
            "overflow_x": null,
            "grid_auto_flow": null,
            "grid_area": null,
            "grid_template_columns": null,
            "flex": null,
            "_model_name": "LayoutModel",
            "justify_items": null,
            "grid_row": null,
            "max_height": null,
            "align_content": null,
            "visibility": null,
            "align_self": null,
            "height": null,
            "min_height": null,
            "padding": null,
            "grid_auto_rows": null,
            "grid_gap": null,
            "max_width": null,
            "order": null,
            "_view_module_version": "1.2.0",
            "grid_template_areas": null,
            "object_position": null,
            "object_fit": null,
            "grid_auto_columns": null,
            "margin": null,
            "display": null,
            "left": null
          }
        },
        "a3a1fe12fb6246d28c50383a49956194": {
          "model_module": "@jupyter-widgets/controls",
          "model_name": "DescriptionStyleModel",
          "state": {
            "_view_name": "StyleView",
            "_model_name": "DescriptionStyleModel",
            "description_width": "",
            "_view_module": "@jupyter-widgets/base",
            "_model_module_version": "1.5.0",
            "_view_count": null,
            "_view_module_version": "1.2.0",
            "_model_module": "@jupyter-widgets/controls"
          }
        },
        "408617dfa95448ca8db3843483f51f94": {
          "model_module": "@jupyter-widgets/base",
          "model_name": "LayoutModel",
          "state": {
            "_view_name": "LayoutView",
            "grid_template_rows": null,
            "right": null,
            "justify_content": null,
            "_view_module": "@jupyter-widgets/base",
            "overflow": null,
            "_model_module_version": "1.2.0",
            "_view_count": null,
            "flex_flow": null,
            "width": null,
            "min_width": null,
            "border": null,
            "align_items": null,
            "bottom": null,
            "_model_module": "@jupyter-widgets/base",
            "top": null,
            "grid_column": null,
            "overflow_y": null,
            "overflow_x": null,
            "grid_auto_flow": null,
            "grid_area": null,
            "grid_template_columns": null,
            "flex": null,
            "_model_name": "LayoutModel",
            "justify_items": null,
            "grid_row": null,
            "max_height": null,
            "align_content": null,
            "visibility": null,
            "align_self": null,
            "height": null,
            "min_height": null,
            "padding": null,
            "grid_auto_rows": null,
            "grid_gap": null,
            "max_width": null,
            "order": null,
            "_view_module_version": "1.2.0",
            "grid_template_areas": null,
            "object_position": null,
            "object_fit": null,
            "grid_auto_columns": null,
            "margin": null,
            "display": null,
            "left": null
          }
        }
      }
    }
  },
  "cells": [
    {
      "cell_type": "code",
      "metadata": {
        "id": "FinePxC6mQmG"
      },
      "source": [
        "import tensorflow as tf\n",
        "import tensorflow_datasets as tfds"
      ],
      "execution_count": 3,
      "outputs": []
    },
    {
      "cell_type": "code",
      "metadata": {
        "id": "EVnouwi0mWkm",
        "outputId": "01b06437-481b-4109-b74e-986cb37e3165",
        "colab": {
          "base_uri": "https://localhost:8080/",
          "height": 202,
          "referenced_widgets": [
            "a1a68ae83dc84600a420cceec08f8316",
            "d6baeac1b27743659e269b585e304522",
            "3b33a21378914482af0eb86c3c8e36bc",
            "4d68047621494322b3f3c9b5f720c497",
            "bf46d2c14807421a9185f6591fc98e8a",
            "55b5ed2eb70140bdb25c3252474e41ea",
            "a3a1fe12fb6246d28c50383a49956194",
            "408617dfa95448ca8db3843483f51f94"
          ]
        }
      },
      "source": [
        "(mnist_train, mnist_test), ds_info = tfds.load('mnist', split=['train', 'test'], as_supervised=True, with_info=True)"
      ],
      "execution_count": 4,
      "outputs": [
        {
          "output_type": "stream",
          "text": [
            "\u001b[1mDownloading and preparing dataset mnist/3.0.0 (download: 11.06 MiB, generated: Unknown size, total: 11.06 MiB) to /root/tensorflow_datasets/mnist/3.0.0...\u001b[0m\n"
          ],
          "name": "stdout"
        },
        {
          "output_type": "stream",
          "text": [
            "WARNING:absl:Dataset mnist is hosted on GCS. It will automatically be downloaded to your\n",
            "local data directory. If you'd instead prefer to read directly from our public\n",
            "GCS bucket (recommended if you're running on GCP), you can instead set\n",
            "data_dir=gs://tfds-data/datasets.\n",
            "\n"
          ],
          "name": "stderr"
        },
        {
          "output_type": "display_data",
          "data": {
            "application/vnd.jupyter.widget-view+json": {
              "model_id": "a1a68ae83dc84600a420cceec08f8316",
              "version_minor": 0,
              "version_major": 2
            },
            "text/plain": [
              "HBox(children=(FloatProgress(value=0.0, description='Dl Completed...', max=4.0, style=ProgressStyle(descriptio…"
            ]
          },
          "metadata": {
            "tags": []
          }
        },
        {
          "output_type": "stream",
          "text": [
            "\n",
            "\n",
            "\u001b[1mDataset mnist downloaded and prepared to /root/tensorflow_datasets/mnist/3.0.0. Subsequent calls will reuse this data.\u001b[0m\n"
          ],
          "name": "stdout"
        }
      ]
    },
    {
      "cell_type": "code",
      "metadata": {
        "id": "9rbPHqECm6IZ"
      },
      "source": [
        "def normalize_img(image, label):\n",
        "  return tf.cast(image, tf.float32) / 255., label\n",
        "\n",
        "def transform_labels(image, label):\n",
        "  return image, tf.math.floor(label / 2)\n",
        "\n",
        "def prepare(ds, shuffle=True, batch_size=32, prefetch=True):\n",
        "  ds = ds.map(normalize_img, num_parallel_calls=tf.data.experimental.AUTOTUNE)\n",
        "  ds = ds.map(transform_labels, num_parallel_calls=tf.data.experimental.AUTOTUNE)\n",
        "  ds = ds.shuffle(ds_info.splits['train'].num_examples) if shuffle else ds\n",
        "  ds = ds.cache()\n",
        "  ds = ds.batch(batch_size)\n",
        "  ds = ds.prefetch(tf.data.experimental.AUTOTUNE) if prefetch else ds\n",
        "  return ds\n",
        "\n",
        "def split_tasks(ds, predicate):\n",
        "  return ds.filter(predicate), ds.filter(lambda img, label: not predicate(img, label))\n",
        "\n",
        "multi_task_train, multi_task_test = prepare(mnist_train), prepare(mnist_test)\n",
        "task_A_train, task_B_train = split_tasks(mnist_train, lambda img, label: label % 2 == 0)\n",
        "task_A_train, task_B_train = prepare(task_A_train), prepare(task_B_train)\n",
        "task_A_test, task_B_test = split_tasks(mnist_test, lambda img, label: label % 2 == 0)\n",
        "task_A_test, task_B_test = prepare(task_A_test), prepare(task_B_test)"
      ],
      "execution_count": 5,
      "outputs": []
    },
    {
      "cell_type": "code",
      "metadata": {
        "id": "RytilMAmsF7U"
      },
      "source": [
        "def evaluate(model, test_set):\n",
        "  acc = tf.keras.metrics.SparseCategoricalAccuracy(name='accuracy')\n",
        "  for i, (imgs, labels) in enumerate(test_set):\n",
        "    preds = model.predict_on_batch(imgs)\n",
        "    acc.update_state(labels, preds)\n",
        "  return acc.result().numpy()"
      ],
      "execution_count": 6,
      "outputs": []
    },
    {
      "cell_type": "code",
      "metadata": {
        "id": "UHXeIjPupozX",
        "outputId": "0896b29c-b514-40d0-e08f-be5fbcd8d283",
        "colab": {
          "base_uri": "https://localhost:8080/",
          "height": 238
        }
      },
      "source": [
        "multi_task_model = tf.keras.Sequential([\n",
        "  tf.keras.layers.Flatten(input_shape=(28, 28, 1)),\n",
        "  tf.keras.layers.Dense(128, activation='relu'),\n",
        "  tf.keras.layers.Dense(5)\n",
        "])\n",
        "\n",
        "multi_task_model.compile(optimizer='adam', loss=tf.keras.losses.SparseCategoricalCrossentropy(from_logits=True), metrics='accuracy')\n",
        "\n",
        "multi_task_model.fit(multi_task_train, epochs=6)"
      ],
      "execution_count": 33,
      "outputs": [
        {
          "output_type": "stream",
          "text": [
            "Epoch 1/6\n",
            "1875/1875 [==============================] - 5s 3ms/step - loss: 0.2241 - accuracy: 0.9306\n",
            "Epoch 2/6\n",
            "1875/1875 [==============================] - 5s 3ms/step - loss: 0.1013 - accuracy: 0.9690\n",
            "Epoch 3/6\n",
            "1875/1875 [==============================] - 5s 3ms/step - loss: 0.0723 - accuracy: 0.9779\n",
            "Epoch 4/6\n",
            "1875/1875 [==============================] - 5s 3ms/step - loss: 0.0550 - accuracy: 0.9835\n",
            "Epoch 5/6\n",
            "1875/1875 [==============================] - 5s 3ms/step - loss: 0.0419 - accuracy: 0.9878\n",
            "Epoch 6/6\n",
            "1875/1875 [==============================] - 5s 3ms/step - loss: 0.0319 - accuracy: 0.9910\n"
          ],
          "name": "stdout"
        },
        {
          "output_type": "execute_result",
          "data": {
            "text/plain": [
              "<tensorflow.python.keras.callbacks.History at 0x7f7971c51828>"
            ]
          },
          "metadata": {
            "tags": []
          },
          "execution_count": 33
        }
      ]
    },
    {
      "cell_type": "code",
      "metadata": {
        "id": "FjeykiFor4-t",
        "outputId": "56e5d7f2-a47d-4dee-aea3-95c76f6c0760",
        "colab": {
          "base_uri": "https://localhost:8080/",
          "height": 51
        }
      },
      "source": [
        "print(\"Task A accuracy after training on Multi-Task Problem: {}\".format(evaluate(multi_task_model, task_A_test)))\n",
        "print(\"Task B accuracy after training on Multi-Task Problem: {}\".format(evaluate(multi_task_model, task_B_test)))"
      ],
      "execution_count": 34,
      "outputs": [
        {
          "output_type": "stream",
          "text": [
            "Task A accuracy after training on Multi-Task Problem: 0.9727973937988281\n",
            "Task B accuracy after training on Multi-Task Problem: 0.9720141887664795\n"
          ],
          "name": "stdout"
        }
      ]
    },
    {
      "cell_type": "code",
      "metadata": {
        "id": "CpEix5Nd5rd1",
        "outputId": "0a8da540-de35-4bb4-8d99-07b9ca73db9f",
        "colab": {
          "base_uri": "https://localhost:8080/",
          "height": 238
        }
      },
      "source": [
        "basic_cl_model = tf.keras.Sequential([\n",
        "  tf.keras.layers.Flatten(input_shape=(28, 28, 1)),\n",
        "  tf.keras.layers.Dense(128, activation='relu'),\n",
        "  tf.keras.layers.Dense(5)\n",
        "])\n",
        "\n",
        "basic_cl_model.compile(optimizer='adam', loss=tf.keras.losses.SparseCategoricalCrossentropy(from_logits=True), metrics='accuracy')\n",
        "\n",
        "basic_cl_model.fit(task_A_train, epochs=6)"
      ],
      "execution_count": 35,
      "outputs": [
        {
          "output_type": "stream",
          "text": [
            "Epoch 1/6\n",
            "922/922 [==============================] - 2s 3ms/step - loss: 0.1325 - accuracy: 0.9618\n",
            "Epoch 2/6\n",
            "922/922 [==============================] - 2s 3ms/step - loss: 0.0522 - accuracy: 0.9846\n",
            "Epoch 3/6\n",
            "922/922 [==============================] - 2s 3ms/step - loss: 0.0328 - accuracy: 0.9904\n",
            "Epoch 4/6\n",
            "922/922 [==============================] - 2s 3ms/step - loss: 0.0218 - accuracy: 0.9943\n",
            "Epoch 5/6\n",
            "922/922 [==============================] - 2s 3ms/step - loss: 0.0149 - accuracy: 0.9962\n",
            "Epoch 6/6\n",
            "922/922 [==============================] - 2s 3ms/step - loss: 0.0103 - accuracy: 0.9974\n"
          ],
          "name": "stdout"
        },
        {
          "output_type": "execute_result",
          "data": {
            "text/plain": [
              "<tensorflow.python.keras.callbacks.History at 0x7f79c049a9b0>"
            ]
          },
          "metadata": {
            "tags": []
          },
          "execution_count": 35
        }
      ]
    },
    {
      "cell_type": "code",
      "metadata": {
        "id": "D_jy4h0r53TK",
        "outputId": "7d971f09-f895-440e-c3d5-b1a319cfa602",
        "colab": {
          "base_uri": "https://localhost:8080/",
          "height": 34
        }
      },
      "source": [
        "print(\"Task A accuracy after training model on only Task A: {}\".format(evaluate(basic_cl_model, task_A_test)))"
      ],
      "execution_count": 36,
      "outputs": [
        {
          "output_type": "stream",
          "text": [
            "Task A accuracy after training model on only Task A: 0.9884287714958191\n"
          ],
          "name": "stdout"
        }
      ]
    },
    {
      "cell_type": "code",
      "metadata": {
        "id": "fdbS2vn06Exs",
        "outputId": "a3bc7a51-afbc-4312-96b6-217d3dbff87d",
        "colab": {
          "base_uri": "https://localhost:8080/",
          "height": 238
        }
      },
      "source": [
        "basic_cl_model.fit(task_B_train, epochs=6)"
      ],
      "execution_count": 37,
      "outputs": [
        {
          "output_type": "stream",
          "text": [
            "Epoch 1/6\n",
            "954/954 [==============================] - 3s 3ms/step - loss: 0.1850 - accuracy: 0.9512\n",
            "Epoch 2/6\n",
            "954/954 [==============================] - 2s 3ms/step - loss: 0.0617 - accuracy: 0.9813\n",
            "Epoch 3/6\n",
            "954/954 [==============================] - 3s 3ms/step - loss: 0.0410 - accuracy: 0.9877\n",
            "Epoch 4/6\n",
            "954/954 [==============================] - 3s 3ms/step - loss: 0.0291 - accuracy: 0.9918\n",
            "Epoch 5/6\n",
            "954/954 [==============================] - 2s 3ms/step - loss: 0.0207 - accuracy: 0.9947\n",
            "Epoch 6/6\n",
            "954/954 [==============================] - 3s 3ms/step - loss: 0.0146 - accuracy: 0.9967\n"
          ],
          "name": "stdout"
        },
        {
          "output_type": "execute_result",
          "data": {
            "text/plain": [
              "<tensorflow.python.keras.callbacks.History at 0x7f79c00a9898>"
            ]
          },
          "metadata": {
            "tags": []
          },
          "execution_count": 37
        }
      ]
    },
    {
      "cell_type": "code",
      "metadata": {
        "id": "VuVi6kBGtMdA",
        "outputId": "e320925a-0532-42d4-873b-18c4b3942857",
        "colab": {
          "base_uri": "https://localhost:8080/",
          "height": 51
        }
      },
      "source": [
        "print(\"Task B accuracy after training trained model on Task B: {}\".format(evaluate(basic_cl_model, task_B_test)))\n",
        "print(\"Task A accuracy after training trained model on Task B: {}\".format(evaluate(basic_cl_model, task_A_test)))"
      ],
      "execution_count": 38,
      "outputs": [
        {
          "output_type": "stream",
          "text": [
            "Task B accuracy after training trained model on Task B: 0.9865983724594116\n",
            "Task A accuracy after training trained model on Task B: 0.2884693443775177\n"
          ],
          "name": "stdout"
        }
      ]
    },
    {
      "cell_type": "code",
      "metadata": {
        "id": "H37gnlDFFoxq"
      },
      "source": [
        "def l2_penalty(theta, theta_A):\n",
        "  penalty = 0\n",
        "  for i, theta_i in enumerate(theta):\n",
        "    _penalty = tf.math.reduce_sum((theta_i - theta_A[i]) ** 2)\n",
        "    penalty += _penalty\n",
        "  return 0.5*penalty\n",
        "\n",
        "def train_with_l2(model, task_A_train, task_B_train, task_A_test, task_B_test, epochs=6):\n",
        "  # First we're going to fit to task A and retain a copy of parameters trained on Task A\n",
        "  model.fit(task_A_train, epochs=epochs)\n",
        "  theta_A = {n: p.value() for n, p in enumerate(model.trainable_variables.copy())}\n",
        "\n",
        "  print(\"Task A accuracy after training on Task A: {}\".format(evaluate(model, task_A_test)))\n",
        "\n",
        "  accuracy = tf.keras.metrics.SparseCategoricalAccuracy('accuracy')\n",
        "  loss = tf.keras.metrics.SparseCategoricalCrossentropy('loss')\n",
        "\n",
        "  for epoch in range(epochs):\n",
        "    accuracy.reset_states()\n",
        "    loss.reset_states()\n",
        "    for batch, (imgs, labels) in enumerate(task_B_train):\n",
        "      with tf.GradientTape() as tape:\n",
        "        preds = model(imgs)\n",
        "        total_loss = model.loss(labels, preds) + l2_penalty(model.trainable_variables, theta_A)\n",
        "      grads = tape.gradient(total_loss, model.trainable_variables)\n",
        "      model.optimizer.apply_gradients(zip(grads, model.trainable_variables))\n",
        "      \n",
        "      accuracy.update_state(labels, preds)\n",
        "      loss.update_state(labels, preds)\n",
        "      print(\"\\rEpoch: {}, Batch: {}, Loss: {:.3f}, Accuracy: {:.3f}\".format(\n",
        "          epoch+1, batch+1, loss.result().numpy(), accuracy.result().numpy()), flush=True, end=''\n",
        "         )\n",
        "    print(\"\")\n",
        "  \n",
        "  print(\"Task B accuracy after training trained model on Task B: {}\".format(evaluate(model, task_B_test)))\n",
        "  print(\"Task A accuracy after training trained model on Task B: {}\".format(evaluate(model, task_A_test)))"
      ],
      "execution_count": 39,
      "outputs": []
    },
    {
      "cell_type": "code",
      "metadata": {
        "id": "whWs5qLgHykt",
        "outputId": "5b9f98a8-467b-48eb-f9fc-e4b90e020237",
        "colab": {
          "base_uri": "https://localhost:8080/",
          "height": 374
        }
      },
      "source": [
        "l2_model = tf.keras.Sequential([\n",
        "  tf.keras.layers.Flatten(input_shape=(28, 28, 1)),\n",
        "  tf.keras.layers.Dense(128, activation='relu'),\n",
        "  tf.keras.layers.Dense(5)\n",
        "])\n",
        "\n",
        "l2_model.compile(optimizer='adam', loss=tf.keras.losses.SparseCategoricalCrossentropy(from_logits=True), metrics='accuracy')\n",
        "\n",
        "train_with_l2(l2_model, task_A_train, task_B_train, task_A_test, task_B_test)"
      ],
      "execution_count": 40,
      "outputs": [
        {
          "output_type": "stream",
          "text": [
            "Epoch 1/6\n",
            "922/922 [==============================] - 2s 3ms/step - loss: 0.1345 - accuracy: 0.9614\n",
            "Epoch 2/6\n",
            "922/922 [==============================] - 2s 3ms/step - loss: 0.0552 - accuracy: 0.9833\n",
            "Epoch 3/6\n",
            "922/922 [==============================] - 2s 3ms/step - loss: 0.0359 - accuracy: 0.9893\n",
            "Epoch 4/6\n",
            "922/922 [==============================] - 2s 3ms/step - loss: 0.0243 - accuracy: 0.9930\n",
            "Epoch 5/6\n",
            "922/922 [==============================] - 2s 3ms/step - loss: 0.0168 - accuracy: 0.9955\n",
            "Epoch 6/6\n",
            "922/922 [==============================] - 2s 3ms/step - loss: 0.0115 - accuracy: 0.9968\n",
            "Task A accuracy after training on Task A: 0.985180675983429\n",
            "Epoch: 1, Batch: 954, Loss: 4.375, Accuracy: 0.538\n",
            "Epoch: 2, Batch: 954, Loss: 4.283, Accuracy: 0.545\n",
            "Epoch: 3, Batch: 954, Loss: 4.274, Accuracy: 0.546\n",
            "Epoch: 4, Batch: 954, Loss: 4.274, Accuracy: 0.546\n",
            "Epoch: 5, Batch: 954, Loss: 4.271, Accuracy: 0.546\n",
            "Epoch: 6, Batch: 954, Loss: 4.270, Accuracy: 0.546\n",
            "Task B accuracy after training trained model on Task B: 0.5514386892318726\n",
            "Task A accuracy after training trained model on Task B: 0.8932196497917175\n"
          ],
          "name": "stdout"
        }
      ]
    },
    {
      "cell_type": "code",
      "metadata": {
        "id": "Ot_PQvWPSdBu"
      },
      "source": [
        "def compute_precision_matrices(model, task_set, num_batches=1, batch_size=32):\n",
        "  task_set = task_set.repeat()\n",
        "  precision_matrices = {n: tf.zeros_like(p.value()) for n, p in enumerate(model.trainable_variables)}\n",
        "\n",
        "  for i, (imgs, labels) in enumerate(task_set.take(num_batches)):\n",
        "    # We need gradients of model params\n",
        "    with tf.GradientTape() as tape:\n",
        "      # Get model predictions for each image\n",
        "      preds = model(imgs)\n",
        "      # Get the log likelihoods of the predictions\n",
        "      ll = tf.nn.log_softmax(preds)\n",
        "    # Attach gradients of ll to ll_grads\n",
        "    ll_grads = tape.gradient(ll, model.trainable_variables)\n",
        "    # Compute F_i as mean of gradients squared\n",
        "    for i, g in enumerate(ll_grads):\n",
        "      precision_matrices[i] += tf.math.reduce_mean(g ** 2, axis=0) / num_batches\n",
        "\n",
        "  return precision_matrices\n",
        "\n",
        "def compute_elastic_penalty(F, theta, theta_A, alpha=25):\n",
        "  penalty = 0\n",
        "  for i, theta_i in enumerate(theta):\n",
        "    _penalty = tf.math.reduce_sum(F[i] * (theta_i - theta_A[i]) ** 2)\n",
        "    penalty += _penalty\n",
        "  return 0.5*alpha*penalty\n",
        "\n",
        "def ewc_loss(labels, preds, model, F, theta_A):\n",
        "  loss_b = model.loss(labels, preds)\n",
        "  penalty = compute_elastic_penalty(F, model.trainable_variables, theta_A)\n",
        "  return loss_b + penalty\n",
        "\n",
        "def train_with_ewc(model, task_A_set, task_B_set, task_A_test, task_B_test, epochs=3):\n",
        "  # First we're going to fit to task A and retain a copy of parameters trained on Task A\n",
        "  model.fit(task_A_set, epochs=epochs)\n",
        "  theta_A = {n: p.value() for n, p in enumerate(model.trainable_variables.copy())}\n",
        "  # We'll only compute Fisher once, you can do it whenever\n",
        "  F = compute_precision_matrices(model, task_A_set, num_batches=1000)\n",
        "\n",
        "  print(\"Task A accuracy after training on Task A: {}\".format(evaluate(model, task_A_test)))\n",
        "\n",
        "  # Now we set up the training loop for task B with EWC\n",
        "  accuracy = tf.keras.metrics.SparseCategoricalAccuracy('accuracy')\n",
        "  loss = tf.keras.metrics.SparseCategoricalCrossentropy('loss')\n",
        "\n",
        "  for epoch in range(epochs*3):\n",
        "    accuracy.reset_states()\n",
        "    loss.reset_states()\n",
        "\n",
        "    for batch, (imgs, labels) in enumerate(task_B_set):\n",
        "      with tf.GradientTape() as tape:\n",
        "        # Make the predictions\n",
        "        preds = model(imgs)\n",
        "        # Compute EWC loss\n",
        "        total_loss = ewc_loss(labels, preds, model, F, theta_A)\n",
        "      # Compute the gradients of model's trainable parameters wrt total loss\n",
        "      grads = tape.gradient(total_loss, model.trainable_variables)\n",
        "      # Update the model with gradients\n",
        "      model.optimizer.apply_gradients(zip(grads, model.trainable_variables))\n",
        "      # Report updated loss and accuracy\n",
        "      accuracy.update_state(labels, preds)\n",
        "      loss.update_state(labels, preds)\n",
        "      print(\"\\rEpoch: {}, Batch: {}, Loss: {:.3f}, Accuracy: {:.3f}\".format(\n",
        "          epoch+1, batch+1, loss.result().numpy(), accuracy.result().numpy()), flush=True, end=''\n",
        "         )\n",
        "    print(\"\")\n",
        "\n",
        "  print(\"Task B accuracy after training trained model on Task B: {}\".format(evaluate(model, task_B_test)))\n",
        "  print(\"Task A accuracy after training trained model on Task B: {}\".format(evaluate(model, task_A_test)))"
      ],
      "execution_count": 51,
      "outputs": []
    },
    {
      "cell_type": "code",
      "metadata": {
        "id": "jBcKQvZOmFA-",
        "outputId": "f5b42cf0-1e8e-4d30-d6ff-2802635da0ed",
        "colab": {
          "base_uri": "https://localhost:8080/",
          "height": 323
        }
      },
      "source": [
        "ewc_model = tf.keras.Sequential([\n",
        "  tf.keras.layers.Flatten(input_shape=(28, 28, 1)),\n",
        "  tf.keras.layers.Dense(128, activation='relu'),\n",
        "  tf.keras.layers.Dropout(0.5),\n",
        "  tf.keras.layers.Dense(5)\n",
        "])\n",
        "\n",
        "ewc_model.compile(optimizer='adam', loss=tf.keras.losses.SparseCategoricalCrossentropy(from_logits=True), metrics='accuracy')\n",
        "\n",
        "train_with_ewc(ewc_model, task_A_train, task_B_train, task_A_test, task_B_test)"
      ],
      "execution_count": 54,
      "outputs": [
        {
          "output_type": "stream",
          "text": [
            "Epoch 1/3\n",
            "922/922 [==============================] - 2s 2ms/step - loss: 0.1972 - accuracy: 0.9395\n",
            "Epoch 2/3\n",
            "922/922 [==============================] - 2s 2ms/step - loss: 0.0981 - accuracy: 0.9706\n",
            "Epoch 3/3\n",
            "922/922 [==============================] - 2s 2ms/step - loss: 0.0760 - accuracy: 0.9772\n",
            "Task A accuracy after training on Task A: 0.9807145595550537\n",
            "Epoch: 1, Batch: 954, Loss: 9.546, Accuracy: 0.201\n",
            "Epoch: 2, Batch: 954, Loss: 7.050, Accuracy: 0.361\n",
            "Epoch: 3, Batch: 954, Loss: 4.001, Accuracy: 0.534\n",
            "Epoch: 4, Batch: 954, Loss: 3.417, Accuracy: 0.601\n",
            "Epoch: 5, Batch: 954, Loss: 3.273, Accuracy: 0.635\n",
            "Epoch: 6, Batch: 954, Loss: 3.191, Accuracy: 0.660\n",
            "Epoch: 7, Batch: 954, Loss: 3.128, Accuracy: 0.679\n",
            "Epoch: 8, Batch: 954, Loss: 3.072, Accuracy: 0.693\n",
            "Epoch: 9, Batch: 954, Loss: 3.021, Accuracy: 0.704\n",
            "Task B accuracy after training trained model on Task B: 0.7087110877037048\n",
            "Task A accuracy after training trained model on Task B: 0.7677628993988037\n"
          ],
          "name": "stdout"
        }
      ]
    },
    {
      "cell_type": "code",
      "metadata": {
        "id": "tDYZfNhdfOQH"
      },
      "source": [
        ""
      ],
      "execution_count": null,
      "outputs": []
    }
  ]
}